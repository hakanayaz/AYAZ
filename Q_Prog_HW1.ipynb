{
  "nbformat": 4,
  "nbformat_minor": 0,
  "metadata": {
    "colab": {
      "name": "Q_Prog_HW1.ipynb",
      "provenance": [],
      "collapsed_sections": [],
      "authorship_tag": "ABX9TyOlxIYn/upi4qcY/qGxzIYm",
      "include_colab_link": true
    },
    "kernelspec": {
      "name": "python3",
      "display_name": "Python 3"
    }
  },
  "cells": [
    {
      "cell_type": "markdown",
      "metadata": {
        "id": "view-in-github",
        "colab_type": "text"
      },
      "source": [
        "<a href=\"https://colab.research.google.com/github/hakanayaz/AYAZ/blob/master/Q_Prog_HW1.ipynb\" target=\"_parent\"><img src=\"https://colab.research.google.com/assets/colab-badge.svg\" alt=\"Open In Colab\"/></a>"
      ]
    },
    {
      "cell_type": "markdown",
      "metadata": {
        "id": "5Rw5PpOL_svR"
      },
      "source": [
        "First code starts with the installing the Cirq."
      ]
    },
    {
      "cell_type": "code",
      "metadata": {
        "id": "U0wv0mmA_d7J"
      },
      "source": [
        "try:\r\n",
        "    import cirq\r\n",
        "except ImportError:\r\n",
        "    print(\"installing cirq...\")\r\n",
        "    !pip install --quiet cirq\r\n",
        "    print(\"installed cirq.\")\r\n",
        "from cirq.contrib.svg import SVGCircuit\r\n",
        "import numpy as np\r\n",
        "import matplotlib.pyplot as plt"
      ],
      "execution_count": 44,
      "outputs": []
    },
    {
      "cell_type": "markdown",
      "metadata": {
        "id": "QZNubhQ3FBwj"
      },
      "source": [
        "Creating the qubits and naming."
      ]
    },
    {
      "cell_type": "code",
      "metadata": {
        "id": "XsVaycul_1Vy"
      },
      "source": [
        "q1, q2, q3, q4, q5 = cirq.LineQubit.range(5)\r\n",
        "sqrt_iswap = cirq.ISWAP**0.5"
      ],
      "execution_count": 81,
      "outputs": []
    },
    {
      "cell_type": "code",
      "metadata": {
        "id": "_U8l49yJr3ca",
        "colab": {
          "base_uri": "https://localhost:8080/"
        },
        "outputId": "88bc250a-093b-4394-b4b1-22eec7672dd3"
      },
      "source": [
        "operations = [cirq.Moment(cirq.H(q1), cirq.H(q2), cirq.H(q3), cirq.H(q4), cirq.H(q5)),\n",
        "              cirq.Moment(sqrt_iswap(q1,q2),  sqrt_iswap(q3,q4)),\n",
        "              cirq.Moment(sqrt_iswap(q2,q3), sqrt_iswap(q4,q5)), \n",
        "              cirq.Moment(cirq.rx(np.random.random()).on(q1),cirq.ry(np.random.random()).on(q3)), \n",
        "              cirq.Moment(cirq.rz(np.random.random()).on(q2), cirq.ry(np.random.random()).on(q4)), \n",
        "              cirq.Moment(cirq.rx(np.random.random()).on(q5)),\n",
        "              cirq.Moment(sqrt_iswap(q2,q3), sqrt_iswap(q4,q5)),\n",
        "              cirq.Moment(sqrt_iswap(q1,q2),  sqrt_iswap(q3,q4)),\n",
        "              cirq.Moment(cirq.rx(np.random.random()).on(q1),cirq.rz(np.random.random()).on(q2),\n",
        "                          cirq.ry(np.random.random()).on(q3),cirq.rx(np.random.random()).on(q4),cirq.ry(np.random.random()).on(q5))]\n",
        "operations_added_rot = [cirq.Moment(cirq.H(q1), cirq.H(q2), cirq.H(q3), cirq.H(q4), cirq.H(q5)),\n",
        "              cirq.Moment(sqrt_iswap(q1,q2),  sqrt_iswap(q3,q4)),\n",
        "              cirq.Moment(sqrt_iswap(q2,q3), sqrt_iswap(q4,q5)), \n",
        "              cirq.Moment(cirq.rx(np.random.random()).on(q1),cirq.ry(np.random.random()).on(q3)), \n",
        "              cirq.Moment(cirq.rz(np.random.random()).on(q2), cirq.ry(np.random.random()).on(q4)), \n",
        "              cirq.Moment(cirq.rx(np.random.random()).on(q5), cirq.X(q3)),\n",
        "              cirq.Moment(sqrt_iswap(q2,q3), sqrt_iswap(q4,q5)),\n",
        "              cirq.Moment(sqrt_iswap(q1,q2),  sqrt_iswap(q3,q4)),\n",
        "              cirq.Moment(cirq.rx(np.random.random()).on(q1),cirq.rz(np.random.random()).on(q2),\n",
        "                          cirq.ry(np.random.random()).on(q3),cirq.rx(np.random.random()).on(q4),cirq.ry(np.random.random()).on(q5))]\n",
        "added_rot = [cirq.ry(np.random.random()).on(q3)]\n",
        "mycircuit = cirq.Circuit(operations)\n",
        "mycircuit_added_rot = cirq.Circuit(operations_added_rot)\n",
        "added_rotation = cirq.Circuit(added_rot)\n",
        "final_mycircuit = mycircuit + cirq.inverse(mycircuit) \n",
        "final_mycircuit_added_X = mycircuit_added_rot + cirq.inverse(mycircuit) \n",
        "\n",
        "print(final_mycircuit)\n",
        "print(final_mycircuit_added_X)"
      ],
      "execution_count": 118,
      "outputs": [
        {
          "output_type": "stream",
          "text": [
            "0: ───H───iSwap───────────────────Rx(0.216π)─────────────────────────────────────────iSwap───────Rx(0.247π)───Rx(-0.247π)───iSwap─────────────────────────────────────────────────Rx(-0.216π)────────────────iSwap────────H───\n",
            "          │                                                                          │                                      │                                                                                │\n",
            "1: ───H───iSwap^0.5───iSwap────────────────────Rz(0.13π)─────────────────iSwap───────iSwap^0.5───Rz(0.143π)───Rz(-0.143π)───iSwap^-0.5───iSwap──────────────────────Rz(-0.13π)──────────────────iSwap────────iSwap^-0.5───H───\n",
            "                      │                                                  │                                                               │                                                      │\n",
            "2: ───H───iSwap───────iSwap^0.5───Ry(0.194π)─────────────────────────────iSwap^0.5───iSwap───────Ry(0.052π)───Ry(-0.052π)───iSwap────────iSwap^-0.5───────────────────────────────Ry(-0.194π)───iSwap^-0.5───iSwap────────H───\n",
            "          │                                                                          │                                      │                                                                                │\n",
            "3: ───H───iSwap^0.5───iSwap────────────────────Ry(0.108π)────────────────iSwap───────iSwap^0.5───Rx(0.292π)───Rx(-0.292π)───iSwap^-0.5───iSwap──────────────────────Ry(-0.108π)─────────────────iSwap────────iSwap^-0.5───H───\n",
            "                      │                                                  │                                                               │                                                      │\n",
            "4: ───H───────────────iSwap^0.5─────────────────────────────Rx(0.238π)───iSwap^0.5───────────────Ry(0.208π)───Ry(-0.208π)────────────────iSwap^-0.5───Rx(-0.238π)───────────────────────────────iSwap^-0.5────────────────H───\n",
            "0: ───H───iSwap───────────────────Rx(0.262π)─────────────────────────────────────────iSwap───────Rx(0.235π)───Rx(-0.247π)───iSwap─────────────────────────────────────────────────Rx(-0.216π)────────────────iSwap────────H───\n",
            "          │                                                                          │                                      │                                                                                │\n",
            "1: ───H───iSwap^0.5───iSwap────────────────────Rz(0.013π)────────────────iSwap───────iSwap^0.5───Rz(0.137π)───Rz(-0.143π)───iSwap^-0.5───iSwap──────────────────────Rz(-0.13π)──────────────────iSwap────────iSwap^-0.5───H───\n",
            "                      │                                                  │                                                               │                                                      │\n",
            "2: ───H───iSwap───────iSwap^0.5───Ry(0.138π)────────────────X────────────iSwap^0.5───iSwap───────Ry(0.094π)───Ry(-0.052π)───iSwap────────iSwap^-0.5───────────────────────────────Ry(-0.194π)───iSwap^-0.5───iSwap────────H───\n",
            "          │                                                                          │                                      │                                                                                │\n",
            "3: ───H───iSwap^0.5───iSwap────────────────────Ry(0.218π)────────────────iSwap───────iSwap^0.5───Rx(0.175π)───Rx(-0.292π)───iSwap^-0.5───iSwap──────────────────────Ry(-0.108π)─────────────────iSwap────────iSwap^-0.5───H───\n",
            "                      │                                                  │                                                               │                                                      │\n",
            "4: ───H───────────────iSwap^0.5─────────────────────────────Rx(0.095π)───iSwap^0.5───────────────Ry(0.296π)───Ry(-0.208π)────────────────iSwap^-0.5───Rx(-0.238π)───────────────────────────────iSwap^-0.5────────────────H───\n"
          ],
          "name": "stdout"
        }
      ]
    },
    {
      "cell_type": "code",
      "metadata": {
        "colab": {
          "base_uri": "https://localhost:8080/"
        },
        "id": "mzXoYTYmF8yN",
        "outputId": "5f2e6c60-be33-441c-d7fd-5f4b64a4f58e"
      },
      "source": [
        "# Initialize Simulator\r\n",
        "s=cirq.Simulator()\r\n",
        "print('Simulate the circuit:')\r\n",
        "results=s.simulate(final_mycircuit)\r\n",
        "print(results)\r\n",
        "print()\r\n",
        "# # For sampling, we need to add a measurement at the end\r\n",
        "# final_mycircuit.append(cirq.measure(q1, q2, q3, q4, q5, key='result'))\r\n",
        "# print('Sample the circuit:')\r\n",
        "# samples=s.run(mycircuit, repetitions=1000)\r\n",
        "# # Print a histogram of results\r\n",
        "# print(samples.histogram(key='result'))"
      ],
      "execution_count": 120,
      "outputs": [
        {
          "output_type": "stream",
          "text": [
            "Simulate the circuit:\n",
            "measurements: (no measurements)\n",
            "output vector: |00000⟩\n",
            "\n"
          ],
          "name": "stdout"
        }
      ]
    }
  ]
}